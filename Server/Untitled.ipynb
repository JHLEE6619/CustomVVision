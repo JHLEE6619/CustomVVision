{
 "cells": [
  {
   "cell_type": "code",
   "execution_count": 1,
   "id": "e24aea81-4e27-4dac-851e-6e34c4749ad0",
   "metadata": {},
   "outputs": [],
   "source": [
    "import os\n",
    "import numpy as np\n",
    "import pandas as pd\n",
    "from PIL import Image"
   ]
  },
  {
   "cell_type": "code",
   "execution_count": 3,
   "id": "e9bc17c2-8e3d-4f5a-8d2c-974624327c17",
   "metadata": {},
   "outputs": [],
   "source": [
    "def load_image(modelId, labels, imgWidth, imgHeight):\n",
    "    imgList = []\n",
    "    labelList = []\n",
    "    for label in labels:\n",
    "        imgDir = os.path.join('models', modelId, label)\n",
    "        print(imgDir)\n",
    "        for fileName in os.listdir(imgDir):\n",
    "            if fileName.endswith(('.jpg', '.png', '.jpeg')):\n",
    "                imgName = os.path.join(str(imgDir),fileName)\n",
    "                img = Image.open(imgName).resize((imgWidth, imgHeight))\n",
    "                img_arr = np.array(img)\n",
    "                imgList.append(img_arr)\n",
    "                labelList.append(label)\n",
    "    print(\"이미지 리스트에 담기 완료\")\n",
    "    imgList = np.array(imgList) / 255.0\n",
    "    print(\"이미지 ndarray로 전환하고 정규화 완료\")\n",
    "    return imgList, labelList"
   ]
  },
  {
   "cell_type": "code",
   "execution_count": 19,
   "id": "e0980d0c-203d-4c23-9f09-9f6660dce798",
   "metadata": {},
   "outputs": [
    {
     "name": "stdout",
     "output_type": "stream",
     "text": [
      "models\\animal1\\Bear\n",
      "models\\animal1\\Bird\n",
      "models\\animal1\\Cat\n",
      "models\\animal1\\Cow\n",
      "models\\animal1\\Deer\n",
      "이미지 리스트에 담기 완료\n",
      "이미지 ndarray로 전환하고 정규화 완료\n",
      "[[[0.61176471 0.6627451  0.62352941]\n",
      "  [0.60392157 0.65882353 0.60784314]\n",
      "  [0.61176471 0.6627451  0.59607843]\n",
      "  ...\n",
      "  [0.94509804 0.94901961 0.96862745]\n",
      "  [0.94509804 0.94901961 0.96862745]\n",
      "  [0.94509804 0.94901961 0.96862745]]\n",
      "\n",
      " [[0.61568627 0.66666667 0.62745098]\n",
      "  [0.59607843 0.65098039 0.6       ]\n",
      "  [0.59215686 0.64313725 0.57647059]\n",
      "  ...\n",
      "  [0.94117647 0.94509804 0.96470588]\n",
      "  [0.9372549  0.94117647 0.96078431]\n",
      "  [0.9372549  0.94117647 0.96078431]]\n",
      "\n",
      " [[0.58823529 0.64313725 0.59215686]\n",
      "  [0.58039216 0.63529412 0.57647059]\n",
      "  [0.58431373 0.63137255 0.57647059]\n",
      "  ...\n",
      "  [0.93333333 0.9372549  0.95686275]\n",
      "  [0.93333333 0.9372549  0.95686275]\n",
      "  [0.92941176 0.93333333 0.95294118]]\n",
      "\n",
      " ...\n",
      "\n",
      " [[0.59215686 0.56078431 0.50980392]\n",
      "  [0.44313725 0.41960784 0.36470588]\n",
      "  [0.24705882 0.22352941 0.16862745]\n",
      "  ...\n",
      "  [0.58039216 0.52156863 0.44705882]\n",
      "  [0.6        0.54901961 0.48627451]\n",
      "  [0.63137255 0.58431373 0.52941176]]\n",
      "\n",
      " [[0.34509804 0.30980392 0.25098039]\n",
      "  [0.17647059 0.14901961 0.08627451]\n",
      "  [0.21568627 0.18823529 0.1254902 ]\n",
      "  ...\n",
      "  [0.52156863 0.45490196 0.37647059]\n",
      "  [0.38823529 0.3372549  0.2745098 ]\n",
      "  [0.41568627 0.36078431 0.30980392]]\n",
      "\n",
      " [[0.50980392 0.4745098  0.40784314]\n",
      "  [0.57647059 0.54117647 0.4745098 ]\n",
      "  [0.48235294 0.45490196 0.39215686]\n",
      "  ...\n",
      "  [0.7372549  0.6745098  0.58431373]\n",
      "  [0.56470588 0.50196078 0.44313725]\n",
      "  [0.4745098  0.41960784 0.36862745]]]\n"
     ]
    }
   ],
   "source": [
    "labels = ['Bear','Bird','Cat','Cow','Deer']\n",
    "X, y= load_image('animal1', labels, 224, 224)\n",
    "print(X[1])"
   ]
  },
  {
   "cell_type": "code",
   "execution_count": 28,
   "id": "6c4b7e95-79b9-4c90-903e-c504eb110b75",
   "metadata": {},
   "outputs": [
    {
     "name": "stdout",
     "output_type": "stream",
     "text": [
      "      Bear   Bird    Cat    Cow   Deer\n",
      "0     True  False  False  False  False\n",
      "1     True  False  False  False  False\n",
      "2     True  False  False  False  False\n",
      "3     True  False  False  False  False\n",
      "4     True  False  False  False  False\n",
      "..     ...    ...    ...    ...    ...\n",
      "638  False  False  False  False   True\n",
      "639  False  False  False  False   True\n",
      "640  False  False  False  False   True\n",
      "641  False  False  False  False   True\n",
      "642  False  False  False  False   True\n",
      "\n",
      "[643 rows x 5 columns]\n"
     ]
    }
   ],
   "source": [
    "y = pd.get_dummies(y)\n",
    "print(y)"
   ]
  },
  {
   "cell_type": "code",
   "execution_count": 31,
   "id": "20342ff9-67d3-42a8-b122-7fb627b1cdab",
   "metadata": {},
   "outputs": [
    {
     "name": "stdout",
     "output_type": "stream",
     "text": [
      "<class 'bool'>\n"
     ]
    }
   ],
   "source": [
    "t = True\n",
    "print(type(t))"
   ]
  }
 ],
 "metadata": {
  "kernelspec": {
   "display_name": "Python 3 (ipykernel)",
   "language": "python",
   "name": "python3"
  },
  "language_info": {
   "codemirror_mode": {
    "name": "ipython",
    "version": 3
   },
   "file_extension": ".py",
   "mimetype": "text/x-python",
   "name": "python",
   "nbconvert_exporter": "python",
   "pygments_lexer": "ipython3",
   "version": "3.10.16"
  }
 },
 "nbformat": 4,
 "nbformat_minor": 5
}
